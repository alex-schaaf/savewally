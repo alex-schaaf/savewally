{
 "cells": [
  {
   "cell_type": "code",
   "execution_count": 69,
   "metadata": {},
   "outputs": [],
   "source": [
    "import numpy as np\n",
    "import matplotlib.pyplot as plt\n",
    "%matplotlib inline\n",
    "import pandas as pd\n",
    "from PIL import Image\n",
    "Image.MAX_IMAGE_PIXELS = None  # disable protection against decompression bomb DOS attacks\n",
    "import scipy.misc\n",
    "import tqdm"
   ]
  },
  {
   "cell_type": "code",
   "execution_count": 2,
   "metadata": {},
   "outputs": [
    {
     "data": {
      "text/html": [
       "<div>\n",
       "<style scoped>\n",
       "    .dataframe tbody tr th:only-of-type {\n",
       "        vertical-align: middle;\n",
       "    }\n",
       "\n",
       "    .dataframe tbody tr th {\n",
       "        vertical-align: top;\n",
       "    }\n",
       "\n",
       "    .dataframe thead th {\n",
       "        text-align: right;\n",
       "    }\n",
       "</style>\n",
       "<table border=\"1\" class=\"dataframe\">\n",
       "  <thead>\n",
       "    <tr style=\"text-align: right;\">\n",
       "      <th></th>\n",
       "      <th>image_file</th>\n",
       "      <th>class</th>\n",
       "      <th>x</th>\n",
       "      <th>y</th>\n",
       "      <th>date_counted</th>\n",
       "    </tr>\n",
       "  </thead>\n",
       "  <tbody>\n",
       "    <tr>\n",
       "      <th>0</th>\n",
       "      <td>StitchMICE_ORKlh16_3_1104_CP_FINAL.tif</td>\n",
       "      <td>whitecoat</td>\n",
       "      <td>1511</td>\n",
       "      <td>35752</td>\n",
       "      <td>24/05/2018</td>\n",
       "    </tr>\n",
       "    <tr>\n",
       "      <th>1</th>\n",
       "      <td>StitchMICE_ORKlh16_3_1104_CP_FINAL.tif</td>\n",
       "      <td>whitecoat</td>\n",
       "      <td>1535</td>\n",
       "      <td>35432</td>\n",
       "      <td>24/05/2018</td>\n",
       "    </tr>\n",
       "    <tr>\n",
       "      <th>2</th>\n",
       "      <td>StitchMICE_ORKlh16_3_1104_CP_FINAL.tif</td>\n",
       "      <td>whitecoat</td>\n",
       "      <td>1587</td>\n",
       "      <td>34943</td>\n",
       "      <td>24/05/2018</td>\n",
       "    </tr>\n",
       "    <tr>\n",
       "      <th>3</th>\n",
       "      <td>StitchMICE_ORKlh16_3_1104_CP_FINAL.tif</td>\n",
       "      <td>whitecoat</td>\n",
       "      <td>1658</td>\n",
       "      <td>35188</td>\n",
       "      <td>24/05/2018</td>\n",
       "    </tr>\n",
       "    <tr>\n",
       "      <th>4</th>\n",
       "      <td>StitchMICE_ORKlh16_3_1104_CP_FINAL.tif</td>\n",
       "      <td>whitecoat</td>\n",
       "      <td>1621</td>\n",
       "      <td>34248</td>\n",
       "      <td>24/05/2018</td>\n",
       "    </tr>\n",
       "  </tbody>\n",
       "</table>\n",
       "</div>"
      ],
      "text/plain": [
       "                               image_file      class     x      y date_counted\n",
       "0  StitchMICE_ORKlh16_3_1104_CP_FINAL.tif  whitecoat  1511  35752   24/05/2018\n",
       "1  StitchMICE_ORKlh16_3_1104_CP_FINAL.tif  whitecoat  1535  35432   24/05/2018\n",
       "2  StitchMICE_ORKlh16_3_1104_CP_FINAL.tif  whitecoat  1587  34943   24/05/2018\n",
       "3  StitchMICE_ORKlh16_3_1104_CP_FINAL.tif  whitecoat  1658  35188   24/05/2018\n",
       "4  StitchMICE_ORKlh16_3_1104_CP_FINAL.tif  whitecoat  1621  34248   24/05/2018"
      ]
     },
     "execution_count": 2,
     "metadata": {},
     "output_type": "execute_result"
    }
   ],
   "source": [
    "df = pd.read_csv(\"../data/Linga Holm_ORKlh_2016_3&4_20180906.csv\")\n",
    "df.head()"
   ]
  },
  {
   "cell_type": "code",
   "execution_count": 3,
   "metadata": {},
   "outputs": [
    {
     "data": {
      "text/plain": [
       "array(['StitchMICE_ORKlh16_3_1104_CP_FINAL.tif',\n",
       "       'StitchMICE_ORKlh16_4_1117_CP_FINAL.tif'], dtype=object)"
      ]
     },
     "execution_count": 3,
     "metadata": {},
     "output_type": "execute_result"
    }
   ],
   "source": [
    "df.image_file.unique()"
   ]
  },
  {
   "cell_type": "code",
   "execution_count": 4,
   "metadata": {},
   "outputs": [],
   "source": [
    "img_fn = \"StitchMICE_ORKlh16_3_1104_CP_FINAL.tif\"\n",
    "img_fp = \"../data/\" + img_fn"
   ]
  },
  {
   "cell_type": "code",
   "execution_count": 5,
   "metadata": {},
   "outputs": [],
   "source": [
    "img = np.asarray(Image.open(img_fp))"
   ]
  },
  {
   "cell_type": "code",
   "execution_count": 6,
   "metadata": {},
   "outputs": [
    {
     "data": {
      "text/plain": [
       "(63512, 46883, 3)"
      ]
     },
     "execution_count": 6,
     "metadata": {},
     "output_type": "execute_result"
    }
   ],
   "source": [
    "img.shape"
   ]
  },
  {
   "cell_type": "code",
   "execution_count": 7,
   "metadata": {},
   "outputs": [
    {
     "name": "stdout",
     "output_type": "stream",
     "text": [
      "ymax: 62473\n",
      "xmax: 45387\n"
     ]
    }
   ],
   "source": [
    "print(\"ymax:\", df.y.max())\n",
    "print(\"xmax:\", df.x.max())"
   ]
  },
  {
   "cell_type": "code",
   "execution_count": 8,
   "metadata": {},
   "outputs": [],
   "source": []
  },
  {
   "cell_type": "code",
   "execution_count": 21,
   "metadata": {},
   "outputs": [],
   "source": [
    "dx, dy = 25, 25\n",
    "patch_fp = \"../data/patches/\" + img_fn + \"/positive/\"\n",
    "# patch_fp = \"../data/patches/StitchMICE_ORKlh16_3_1104_CP_FINAL.tif/positive/\"\n"
   ]
  },
  {
   "cell_type": "code",
   "execution_count": 18,
   "metadata": {},
   "outputs": [],
   "source": [
    "import os"
   ]
  },
  {
   "cell_type": "code",
   "execution_count": 22,
   "metadata": {},
   "outputs": [],
   "source": [
    "os.mkdir(patch_fp)"
   ]
  },
  {
   "cell_type": "code",
   "execution_count": 24,
   "metadata": {},
   "outputs": [],
   "source": [
    "def generate_positive_patches(df, img, img_fn, dx=25, dy=25):\n",
    "    for i, seal in df[df.image_file == img_fn].iterrows():\n",
    "        patch_fp = \"../data/patches/\" + img_fn + \"/positive/\"\n",
    "        patch = img[::-1,:,:][seal.y - dy:seal.y + dy,seal.x - dx:seal.x + dx]\n",
    "        scipy.misc.toimage(patch, cmin=0.0, cmax=...).save(patch_fp + str(i) +'.png')\n",
    "\n",
    "            "
   ]
  },
  {
   "cell_type": "code",
   "execution_count": 25,
   "metadata": {},
   "outputs": [
    {
     "name": "stderr",
     "output_type": "stream",
     "text": [
      "C:\\Users\\r02as18\\AppData\\Local\\Continuum\\anaconda3\\lib\\site-packages\\ipykernel_launcher.py:5: DeprecationWarning: `toimage` is deprecated!\n",
      "`toimage` is deprecated in SciPy 1.0.0, and will be removed in 1.2.0.\n",
      "Use Pillow's ``Image.fromarray`` directly instead.\n",
      "  \"\"\"\n"
     ]
    }
   ],
   "source": [
    "generate_positive_patches(df, img, img_fn)"
   ]
  },
  {
   "cell_type": "code",
   "execution_count": 27,
   "metadata": {},
   "outputs": [],
   "source": [
    "from scipy.spatial.distance import cdist, pdist"
   ]
  },
  {
   "cell_type": "code",
   "execution_count": 34,
   "metadata": {},
   "outputs": [],
   "source": [
    "np.random.choice?"
   ]
  },
  {
   "cell_type": "code",
   "execution_count": 67,
   "metadata": {},
   "outputs": [],
   "source": [
    "def generate_negative_patches(n, df, img, img_fn, dx=25, dy=25):\n",
    "    min_distance = np.sqrt(dx**2 + dy**2)\n",
    "    patches_count = 0\n",
    "    patch_fp = \"../data/patches/\" + img_fn + \"/negative/\"\n",
    "    \n",
    "    while patches_count < n:\n",
    "        x = np.random.choice(img.shape[1])\n",
    "        y = np.random.choice(img.shape[0])\n",
    "        # check seal vicinity\n",
    "        seal_distances = cdist([[x,y]], df[df.image_file == img_fn][[\"x\", \"y\"]].values)\n",
    "        if np.count_nonzero(min_distance > seal_distances):\n",
    "            continue\n",
    "        \n",
    "        patch = img[::-1,:,:][y - dy:y + dy,x - dx:x + dx]\n",
    "        if np.mean(patch) >= 255:\n",
    "            continue\n",
    "        try:\n",
    "            scipy.misc.toimage(patch, cmin=0.0, cmax=...).save(patch_fp + str(patches_count) +'.png')\n",
    "        except ValueError:\n",
    "            continue\n",
    "        patches_count += 1"
   ]
  },
  {
   "cell_type": "code",
   "execution_count": 71,
   "metadata": {},
   "outputs": [
    {
     "name": "stderr",
     "output_type": "stream",
     "text": [
      "C:\\Users\\r02as18\\AppData\\Local\\Continuum\\anaconda3\\lib\\site-packages\\ipykernel_launcher.py:18: DeprecationWarning: `toimage` is deprecated!\n",
      "`toimage` is deprecated in SciPy 1.0.0, and will be removed in 1.2.0.\n",
      "Use Pillow's ``Image.fromarray`` directly instead.\n"
     ]
    }
   ],
   "source": [
    "generate_negative_patches(48000, df, img, img_fn)"
   ]
  },
  {
   "cell_type": "code",
   "execution_count": null,
   "metadata": {},
   "outputs": [],
   "source": []
  },
  {
   "cell_type": "code",
   "execution_count": 47,
   "metadata": {},
   "outputs": [],
   "source": [
    "x = np.random.choice(img.shape[1])\n",
    "y = np.random.choice(img.shape[0])"
   ]
  },
  {
   "cell_type": "code",
   "execution_count": 55,
   "metadata": {},
   "outputs": [],
   "source": [
    "min_distance = np.sqrt(dx**2 + dy**2)\n",
    "seal_distances = cdist([[x,y]], df[df.image_file == img_fn][[\"x\", \"y\"]].values)"
   ]
  },
  {
   "cell_type": "code",
   "execution_count": 59,
   "metadata": {},
   "outputs": [
    {
     "data": {
      "text/plain": [
       "0"
      ]
     },
     "execution_count": 59,
     "metadata": {},
     "output_type": "execute_result"
    }
   ],
   "source": [
    "np.count_nonzero(min_distance > seal_distances)"
   ]
  },
  {
   "cell_type": "code",
   "execution_count": null,
   "metadata": {},
   "outputs": [],
   "source": [
    "np.mean()"
   ]
  }
 ],
 "metadata": {
  "kernelspec": {
   "display_name": "Python 3",
   "language": "python",
   "name": "python3"
  },
  "language_info": {
   "codemirror_mode": {
    "name": "ipython",
    "version": 3
   },
   "file_extension": ".py",
   "mimetype": "text/x-python",
   "name": "python",
   "nbconvert_exporter": "python",
   "pygments_lexer": "ipython3",
   "version": "3.6.7"
  }
 },
 "nbformat": 4,
 "nbformat_minor": 2
}
