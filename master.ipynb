{
 "cells": [
  {
   "cell_type": "markdown",
   "metadata": {},
   "source": [
    "# Save Wally!"
   ]
  },
  {
   "cell_type": "markdown",
   "metadata": {},
   "source": [
    "This project Aims at identifying small objects from a large image knowing their coordinates\n",
    "There are 8(?) classes of objects (seals)"
   ]
  },
  {
   "cell_type": "code",
   "execution_count": 45,
   "metadata": {},
   "outputs": [
    {
     "name": "stdout",
     "output_type": "stream",
     "text": [
      "100 568\n"
     ]
    }
   ],
   "source": [
    "import numpy as np\n",
    "maxX = 46883\n",
    "maxY = 63512\n",
    "SizeTile = 256\n",
    "# coordinate vector full resolution\n",
    "Xo = np.arange(maxX)\n",
    "Yo = np.arange(maxY)\n",
    "# LL coordinate of tiles\n",
    "Xto = Xo[::SizeTile]\n",
    "Yto = Yo[::SizeTile]\n",
    "\n",
    "def LocateTile (X,Y,SizeTile):\n",
    "    '''Locate the tile index from the pixel coordinate'''\n",
    "    return X//SizeTile, Y//SizeTile\n",
    "\n",
    "def axisTile (Coord, depth):\n",
    "    '''Locate pixel coordinate from coordinate vector at given depth'''\n",
    "    return Coord[::2*depth]\n",
    "\n",
    "def find_nearest(array, value):\n",
    "    return (np.abs(array - value)).argmin()\n",
    "\n",
    "\n",
    "DummyX, DummyY = 1001, 5679\n",
    "k=5\n",
    "print(find_nearest(axisTile(Xo,k), DummyX), find_nearest(axisTile(Yo, k), DummyY))"
   ]
  },
  {
   "cell_type": "code",
   "execution_count": 8,
   "metadata": {},
   "outputs": [
    {
     "data": {
      "text/plain": [
       "array([    1,     3,     5, ..., 46877, 46879, 46881])"
      ]
     },
     "execution_count": 8,
     "metadata": {},
     "output_type": "execute_result"
    }
   ],
   "source": []
  },
  {
   "cell_type": "code",
   "execution_count": 10,
   "metadata": {},
   "outputs": [
    {
     "data": {
      "text/plain": [
       "array([    3,     7,    11, ..., 46871, 46875, 46879])"
      ]
     },
     "execution_count": 10,
     "metadata": {},
     "output_type": "execute_result"
    }
   ],
   "source": [
    "I6 = I7[1::2]\n",
    "I6"
   ]
  },
  {
   "cell_type": "code",
   "execution_count": 14,
   "metadata": {},
   "outputs": [
    {
     "name": "stdout",
     "output_type": "stream",
     "text": [
      "8\t 46883 \t7\t 23441 \t6\t 11720\n"
     ]
    }
   ],
   "source": [
    "print (\"8\\t\", len(I8), \"\\t7\\t\", len(I7), \"\\t6\\t\", len(I6))"
   ]
  },
  {
   "cell_type": "code",
   "execution_count": null,
   "metadata": {},
   "outputs": [],
   "source": []
  }
 ],
 "metadata": {
  "kernelspec": {
   "display_name": "Python 3",
   "language": "python",
   "name": "python3"
  },
  "language_info": {
   "codemirror_mode": {
    "name": "ipython",
    "version": 3
   },
   "file_extension": ".py",
   "mimetype": "text/x-python",
   "name": "python",
   "nbconvert_exporter": "python",
   "pygments_lexer": "ipython3",
   "version": "3.5.2"
  }
 },
 "nbformat": 4,
 "nbformat_minor": 2
}
