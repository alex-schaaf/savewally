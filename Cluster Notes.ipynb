{
 "cells": [
  {
   "cell_type": "markdown",
   "metadata": {},
   "source": [
    "# Creating a Google Computing Cluster\n",
    "### Steps:\n",
    "1. Activate google console free trial which should give the user $300 to spend\n",
    "2. Once activated create a bucket storage for the files to be stored on\n",
    "3. Setup an instance with the jupyter.sh as initialization file\n",
    "4. Turn off the instance(all nodes aswell)\n",
    "5. Make a copy of instance jupyter.sh to own bucket\n",
    "6. Add any needed python package in the conda installer\n",
    "7. Set the instance to a static ip\n",
    "8. Set the ip to be an external ip this will allow users to dial into the cluster\n",
    "9. Start up the cluster and run the following command on it:\n",
    "    jupyter notebook --ip=0.0.0.0 --port=8134 --no-browser &\n",
    "  Note: For this you will need to ssh into the cluster itself in our example the command looks like to following.\n",
    "      gcloud compute --project \"<project name replaced here>\" ssh --zone \"<zone>\" \"<cluster name>\"\n",
    "10. If everything run currently it should give you an address with the cluster name and the port you choose.\n",
    "    Go to that address in your browser: http://<cluster name>:<port number>/?<token>\n",
    "    Note: Do not use https, as it will bounce back from the proxy\n",
    "11. Add a new password by using the token from after this you won't need the token at each run\n",
    "12. Here you should be able to load any or create new pyspark notebooks, all of this should be run parallel on all of \n",
    "the slave nodes aswell\n"
   ]
  },
  {
   "cell_type": "code",
   "execution_count": null,
   "metadata": {},
   "outputs": [],
   "source": []
  }
 ],
 "metadata": {
  "kernelspec": {
   "display_name": "Python 3",
   "language": "python",
   "name": "python3"
  },
  "language_info": {
   "codemirror_mode": {
    "name": "ipython",
    "version": 3
   },
   "file_extension": ".py",
   "mimetype": "text/x-python",
   "name": "python",
   "nbconvert_exporter": "python",
   "pygments_lexer": "ipython3",
   "version": "3.6.7"
  }
 },
 "nbformat": 4,
 "nbformat_minor": 2
}
